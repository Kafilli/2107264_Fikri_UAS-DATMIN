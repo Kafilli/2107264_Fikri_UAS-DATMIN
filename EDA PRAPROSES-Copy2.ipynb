{
 "cells": [
  {
   "cell_type": "markdown",
   "id": "c9b72163",
   "metadata": {},
   "source": [
    "Muhammad Fikri Kafilli\n",
    "2107264\n",
    "UAS DATA MINING\n",
    "03/01/2023\n",
    "\n",
    "Deskripsi Soal\n",
    "IPM (Indeks Pembangunan Manusia) adalah ukuran kualitas sumber daya manusia. PMI memiliki tiga dimensi: (1) umur panjang dan hidup sehat (a long and healthy life), (2) pengetahuan (knowledge), dan (3) standar hidup layak (decent standard of living).  PMI dihitung menggunakan data harapan hidup, rata-rata lama sekolah, pengeluaran per kapita.\n",
    "\n",
    "Asumsikan kategorisasi PMI adalah sebagai berikut:  <60: sangat rendah; 60 < pmi < 70: sedang; 70 < pmi < 80: rendah; >80 sangat tinggi.\n",
    "\n",
    "Anda diminta memprediksi tingkat PMI per provinsi tanpa menggunakan data yang dapat digunakan untuk menghitung langsung (data proksi). Model ini bermanfaat untuk pengecekan silang dan dapat digunakan jika data yang diperlukan tidak tersedia. "
   ]
  },
  {
   "cell_type": "code",
   "execution_count": 134,
   "id": "8c972876",
   "metadata": {},
   "outputs": [],
   "source": [
    "%matplotlib inline\n",
    "import numpy as np\n",
    "import pandas as pd\n",
    "import matplotlib.pyplot as plt\n",
    "import seaborn as sns\n",
    "import pickle\n",
    "import xgboost as xgb\n",
    "import joblib\n",
    "import pickle\n",
    "from sklearn import preprocessing\n",
    "from sklearn.model_selection import train_test_split\n",
    "from sklearn.naive_bayes import GaussianNB\n",
    "from sklearn.metrics import classification_report\n",
    "from sklearn.metrics import accuracy_score\n",
    "from sklearn import tree\n",
    "from sklearn.ensemble import RandomForestClassifier\n",
    "from sklearn.metrics import confusion_matrix\n",
    "from sklearn.model_selection import cross_val_score\n",
    "from sklearn.metrics import make_scorer\n",
    "from sklearn.decomposition import PCA\n",
    "from sklearn.impute import SimpleImputer\n",
    "from sklearn.model_selection import GridSearchCV\n",
    "from sklearn import tree\n",
    "from sklearn.naive_bayes import GaussianNB\n",
    "from sklearn.metrics import classification_report\n",
    "from sklearn.metrics import accuracy_score\n",
    "from sklearn.impute import SimpleImputer"
   ]
  },
  {
   "cell_type": "markdown",
   "id": "dfe45498",
   "metadata": {},
   "source": [
    "# READ FILE"
   ]
  },
  {
   "cell_type": "markdown",
   "id": "9031b594",
   "metadata": {},
   "source": [
    "file untuk label kelas target"
   ]
  },
  {
   "cell_type": "code",
   "execution_count": 135,
   "id": "7a40699d",
   "metadata": {},
   "outputs": [
    {
     "data": {
      "text/html": [
       "<div>\n",
       "<style scoped>\n",
       "    .dataframe tbody tr th:only-of-type {\n",
       "        vertical-align: middle;\n",
       "    }\n",
       "\n",
       "    .dataframe tbody tr th {\n",
       "        vertical-align: top;\n",
       "    }\n",
       "\n",
       "    .dataframe thead th {\n",
       "        text-align: right;\n",
       "    }\n",
       "</style>\n",
       "<table border=\"1\" class=\"dataframe\">\n",
       "  <thead>\n",
       "    <tr style=\"text-align: right;\">\n",
       "      <th></th>\n",
       "      <th>prov</th>\n",
       "      <th>tahun</th>\n",
       "      <th>kategori_pmi</th>\n",
       "    </tr>\n",
       "  </thead>\n",
       "  <tbody>\n",
       "    <tr>\n",
       "      <th>0</th>\n",
       "      <td>ACEH</td>\n",
       "      <td>2022</td>\n",
       "      <td>TINGGI</td>\n",
       "    </tr>\n",
       "    <tr>\n",
       "      <th>1</th>\n",
       "      <td>SUMATERA UTARA</td>\n",
       "      <td>2022</td>\n",
       "      <td>TINGGI</td>\n",
       "    </tr>\n",
       "  </tbody>\n",
       "</table>\n",
       "</div>"
      ],
      "text/plain": [
       "             prov  tahun kategori_pmi\n",
       "0            ACEH   2022       TINGGI\n",
       "1  SUMATERA UTARA   2022       TINGGI"
      ]
     },
     "execution_count": 135,
     "metadata": {},
     "output_type": "execute_result"
    }
   ],
   "source": [
    "df_pmi = pd.read_table(\"C:\\\\Users\\\\mfkaf\\\\Documents\\\\F Upi\\KULIAH3\\\\Data Mining\\\\UAS\\\\dataset_uas_datamining_jan_23\\\\pmi.csv\", delimiter = \",\", na_values = '-')\n",
    "df_pmi.head(2)"
   ]
  },
  {
   "cell_type": "markdown",
   "id": "71fe755c",
   "metadata": {},
   "source": [
    "file persentase penduduk yang tidak cukup pangan di setiap provinsi"
   ]
  },
  {
   "cell_type": "code",
   "execution_count": 136,
   "id": "e18654e0",
   "metadata": {},
   "outputs": [
    {
     "data": {
      "text/html": [
       "<div>\n",
       "<style scoped>\n",
       "    .dataframe tbody tr th:only-of-type {\n",
       "        vertical-align: middle;\n",
       "    }\n",
       "\n",
       "    .dataframe tbody tr th {\n",
       "        vertical-align: top;\n",
       "    }\n",
       "\n",
       "    .dataframe thead th {\n",
       "        text-align: right;\n",
       "    }\n",
       "</style>\n",
       "<table border=\"1\" class=\"dataframe\">\n",
       "  <thead>\n",
       "    <tr style=\"text-align: right;\">\n",
       "      <th></th>\n",
       "      <th>tahun</th>\n",
       "      <th>pct_tdk_cukup_pangan</th>\n",
       "      <th>prov</th>\n",
       "    </tr>\n",
       "  </thead>\n",
       "  <tbody>\n",
       "    <tr>\n",
       "      <th>0</th>\n",
       "      <td>2021</td>\n",
       "      <td>6.90</td>\n",
       "      <td>ACEH</td>\n",
       "    </tr>\n",
       "    <tr>\n",
       "      <th>1</th>\n",
       "      <td>2021</td>\n",
       "      <td>6.33</td>\n",
       "      <td>SUMATERA UTARA</td>\n",
       "    </tr>\n",
       "  </tbody>\n",
       "</table>\n",
       "</div>"
      ],
      "text/plain": [
       "   tahun  pct_tdk_cukup_pangan            prov\n",
       "0   2021                  6.90            ACEH\n",
       "1   2021                  6.33  SUMATERA UTARA"
      ]
     },
     "execution_count": 136,
     "metadata": {},
     "output_type": "execute_result"
    }
   ],
   "source": [
    "df_nopangan = pd.read_table(\"C:\\\\Users\\\\mfkaf\\\\Documents\\\\F Upi\\KULIAH3\\\\Data Mining\\\\UAS\\\\dataset_uas_datamining_jan_23\\\\ketidak_cukupan_pangan_prov.csv\", delimiter = \",\", na_values = '-')\n",
    "df_nopangan.head(2)"
   ]
  },
  {
   "cell_type": "markdown",
   "id": "fbfe694b",
   "metadata": {},
   "source": [
    "file tingkat kepadatan penduduk"
   ]
  },
  {
   "cell_type": "code",
   "execution_count": 137,
   "id": "6e562e9f",
   "metadata": {},
   "outputs": [
    {
     "data": {
      "text/html": [
       "<div>\n",
       "<style scoped>\n",
       "    .dataframe tbody tr th:only-of-type {\n",
       "        vertical-align: middle;\n",
       "    }\n",
       "\n",
       "    .dataframe tbody tr th {\n",
       "        vertical-align: top;\n",
       "    }\n",
       "\n",
       "    .dataframe thead th {\n",
       "        text-align: right;\n",
       "    }\n",
       "</style>\n",
       "<table border=\"1\" class=\"dataframe\">\n",
       "  <thead>\n",
       "    <tr style=\"text-align: right;\">\n",
       "      <th></th>\n",
       "      <th>prov</th>\n",
       "      <th>tahun</th>\n",
       "      <th>kepadatan_penduduk</th>\n",
       "    </tr>\n",
       "  </thead>\n",
       "  <tbody>\n",
       "    <tr>\n",
       "      <th>0</th>\n",
       "      <td>ACEH</td>\n",
       "      <td>2021</td>\n",
       "      <td>92.0</td>\n",
       "    </tr>\n",
       "    <tr>\n",
       "      <th>1</th>\n",
       "      <td>SUMATERA UTARA</td>\n",
       "      <td>2021</td>\n",
       "      <td>205.0</td>\n",
       "    </tr>\n",
       "  </tbody>\n",
       "</table>\n",
       "</div>"
      ],
      "text/plain": [
       "             prov  tahun  kepadatan_penduduk\n",
       "0            ACEH   2021                92.0\n",
       "1  SUMATERA UTARA   2021               205.0"
      ]
     },
     "execution_count": 137,
     "metadata": {},
     "output_type": "execute_result"
    }
   ],
   "source": [
    "df_kepadatan = pd.read_table(\"C:\\\\Users\\\\mfkaf\\\\Documents\\\\F Upi\\KULIAH3\\\\Data Mining\\\\UAS\\\\dataset_uas_datamining_jan_23\\\\kepadatan_penduduk.csv\", delimiter = \",\", na_values = '-')\n",
    "df_kepadatan.head(2)"
   ]
  },
  {
   "cell_type": "markdown",
   "id": "9e0c3b92",
   "metadata": {},
   "source": [
    "data penduduk dengan proporsi kerja nonformal dan bukan pertanian"
   ]
  },
  {
   "cell_type": "code",
   "execution_count": 138,
   "id": "f76c1166",
   "metadata": {},
   "outputs": [
    {
     "data": {
      "text/html": [
       "<div>\n",
       "<style scoped>\n",
       "    .dataframe tbody tr th:only-of-type {\n",
       "        vertical-align: middle;\n",
       "    }\n",
       "\n",
       "    .dataframe tbody tr th {\n",
       "        vertical-align: top;\n",
       "    }\n",
       "\n",
       "    .dataframe thead th {\n",
       "        text-align: right;\n",
       "    }\n",
       "</style>\n",
       "<table border=\"1\" class=\"dataframe\">\n",
       "  <thead>\n",
       "    <tr style=\"text-align: right;\">\n",
       "      <th></th>\n",
       "      <th>tahun</th>\n",
       "      <th>proporsi_kerja_informal_nonpertanian</th>\n",
       "      <th>prov</th>\n",
       "    </tr>\n",
       "  </thead>\n",
       "  <tbody>\n",
       "    <tr>\n",
       "      <th>0</th>\n",
       "      <td>2021</td>\n",
       "      <td>46.29</td>\n",
       "      <td>ACEH</td>\n",
       "    </tr>\n",
       "    <tr>\n",
       "      <th>1</th>\n",
       "      <td>2021</td>\n",
       "      <td>47.53</td>\n",
       "      <td>SUMATERA UTARA</td>\n",
       "    </tr>\n",
       "  </tbody>\n",
       "</table>\n",
       "</div>"
      ],
      "text/plain": [
       "   tahun  proporsi_kerja_informal_nonpertanian            prov\n",
       "0   2021                                 46.29            ACEH\n",
       "1   2021                                 47.53  SUMATERA UTARA"
      ]
     },
     "execution_count": 138,
     "metadata": {},
     "output_type": "execute_result"
    }
   ],
   "source": [
    "df_kerja = pd.read_table(\"C:\\\\Users\\\\mfkaf\\\\Documents\\\\F Upi\\KULIAH3\\\\Data Mining\\\\UAS\\\\dataset_uas_datamining_jan_23\\\\proporsi_kerja_informal_nonpertanian.csv\", delimiter = \",\", na_values = '-')\n",
    "df_kerja.head(2)"
   ]
  },
  {
   "cell_type": "markdown",
   "id": "f1aa24b2",
   "metadata": {},
   "source": [
    "# Mengecek jumlah column, jumlah data, dan tipe data tiap column"
   ]
  },
  {
   "cell_type": "code",
   "execution_count": 139,
   "id": "786f666f",
   "metadata": {},
   "outputs": [
    {
     "name": "stdout",
     "output_type": "stream",
     "text": [
      "<class 'pandas.core.frame.DataFrame'>\n",
      "RangeIndex: 442 entries, 0 to 441\n",
      "Data columns (total 3 columns):\n",
      " #   Column        Non-Null Count  Dtype \n",
      "---  ------        --------------  ----- \n",
      " 0   prov          442 non-null    object\n",
      " 1   tahun         442 non-null    int64 \n",
      " 2   kategori_pmi  442 non-null    object\n",
      "dtypes: int64(1), object(2)\n",
      "memory usage: 10.5+ KB\n"
     ]
    }
   ],
   "source": [
    "df_pmi.info()"
   ]
  },
  {
   "cell_type": "code",
   "execution_count": 140,
   "id": "b980d2bf",
   "metadata": {},
   "outputs": [
    {
     "name": "stdout",
     "output_type": "stream",
     "text": [
      "<class 'pandas.core.frame.DataFrame'>\n",
      "RangeIndex: 175 entries, 0 to 174\n",
      "Data columns (total 3 columns):\n",
      " #   Column                Non-Null Count  Dtype  \n",
      "---  ------                --------------  -----  \n",
      " 0   tahun                 175 non-null    int64  \n",
      " 1   pct_tdk_cukup_pangan  175 non-null    float64\n",
      " 2   prov                  175 non-null    object \n",
      "dtypes: float64(1), int64(1), object(1)\n",
      "memory usage: 4.2+ KB\n"
     ]
    }
   ],
   "source": [
    "df_nopangan.info()"
   ]
  },
  {
   "cell_type": "code",
   "execution_count": 141,
   "id": "c23b73e1",
   "metadata": {},
   "outputs": [
    {
     "name": "stdout",
     "output_type": "stream",
     "text": [
      "<class 'pandas.core.frame.DataFrame'>\n",
      "RangeIndex: 280 entries, 0 to 279\n",
      "Data columns (total 3 columns):\n",
      " #   Column              Non-Null Count  Dtype  \n",
      "---  ------              --------------  -----  \n",
      " 0   prov                280 non-null    object \n",
      " 1   tahun               280 non-null    int64  \n",
      " 2   kepadatan_penduduk  278 non-null    float64\n",
      "dtypes: float64(1), int64(1), object(1)\n",
      "memory usage: 6.7+ KB\n"
     ]
    }
   ],
   "source": [
    "df_kepadatan.info()"
   ]
  },
  {
   "cell_type": "code",
   "execution_count": 142,
   "id": "974a5cbd",
   "metadata": {},
   "outputs": [
    {
     "name": "stdout",
     "output_type": "stream",
     "text": [
      "<class 'pandas.core.frame.DataFrame'>\n",
      "RangeIndex: 245 entries, 0 to 244\n",
      "Data columns (total 3 columns):\n",
      " #   Column                                Non-Null Count  Dtype  \n",
      "---  ------                                --------------  -----  \n",
      " 0   tahun                                 245 non-null    int64  \n",
      " 1   proporsi_kerja_informal_nonpertanian  245 non-null    float64\n",
      " 2   prov                                  245 non-null    object \n",
      "dtypes: float64(1), int64(1), object(1)\n",
      "memory usage: 5.9+ KB\n"
     ]
    }
   ],
   "source": [
    "df_kerja.info()"
   ]
  },
  {
   "cell_type": "markdown",
   "id": "9a8943be",
   "metadata": {},
   "source": [
    "# Mengecek NULL di tiap dataframe"
   ]
  },
  {
   "cell_type": "code",
   "execution_count": 143,
   "id": "34b1ba3b",
   "metadata": {},
   "outputs": [
    {
     "data": {
      "text/plain": [
       "prov            0\n",
       "tahun           0\n",
       "kategori_pmi    0\n",
       "dtype: int64"
      ]
     },
     "execution_count": 143,
     "metadata": {},
     "output_type": "execute_result"
    }
   ],
   "source": [
    "df_pmi.isna().sum()"
   ]
  },
  {
   "cell_type": "code",
   "execution_count": 144,
   "id": "730e4bbf",
   "metadata": {},
   "outputs": [
    {
     "data": {
      "text/plain": [
       "tahun                   0\n",
       "pct_tdk_cukup_pangan    0\n",
       "prov                    0\n",
       "dtype: int64"
      ]
     },
     "execution_count": 144,
     "metadata": {},
     "output_type": "execute_result"
    }
   ],
   "source": [
    "df_nopangan.isna().sum()"
   ]
  },
  {
   "cell_type": "code",
   "execution_count": 145,
   "id": "50a721d5",
   "metadata": {},
   "outputs": [
    {
     "data": {
      "text/plain": [
       "prov                  0\n",
       "tahun                 0\n",
       "kepadatan_penduduk    2\n",
       "dtype: int64"
      ]
     },
     "execution_count": 145,
     "metadata": {},
     "output_type": "execute_result"
    }
   ],
   "source": [
    "df_kepadatan.isna().sum()"
   ]
  },
  {
   "cell_type": "code",
   "execution_count": 146,
   "id": "61de0da1",
   "metadata": {},
   "outputs": [
    {
     "data": {
      "text/plain": [
       "tahun                                   0\n",
       "proporsi_kerja_informal_nonpertanian    0\n",
       "prov                                    0\n",
       "dtype: int64"
      ]
     },
     "execution_count": 146,
     "metadata": {},
     "output_type": "execute_result"
    }
   ],
   "source": [
    "df_kerja.isna().sum()"
   ]
  },
  {
   "cell_type": "markdown",
   "id": "3d3eea42",
   "metadata": {},
   "source": [
    "# Dapat dilihat dari kode di atas bahwa dataframe kepadatan penduduk memiliki 2 nilai NULL\n"
   ]
  },
  {
   "cell_type": "markdown",
   "id": "cac2d8e5",
   "metadata": {},
   "source": [
    "# Mengisi Nilai NULL berdasarkan rata rata provinsinya"
   ]
  },
  {
   "cell_type": "code",
   "execution_count": 147,
   "id": "de0fbe0c",
   "metadata": {},
   "outputs": [],
   "source": [
    "df_kepadatan['kepadatan_penduduk'].fillna(df_kepadatan.groupby(\"prov\")['kepadatan_penduduk'].transform(\"mean\"), inplace = True)"
   ]
  },
  {
   "cell_type": "markdown",
   "id": "da5227af",
   "metadata": {},
   "source": [
    "melihat apakah NULL sudah terisi atau belum"
   ]
  },
  {
   "cell_type": "code",
   "execution_count": 148,
   "id": "c0a3ad04",
   "metadata": {},
   "outputs": [
    {
     "data": {
      "text/plain": [
       "prov                  0\n",
       "tahun                 0\n",
       "kepadatan_penduduk    0\n",
       "dtype: int64"
      ]
     },
     "execution_count": 148,
     "metadata": {},
     "output_type": "execute_result"
    }
   ],
   "source": [
    "df_kepadatan.isna().sum()"
   ]
  },
  {
   "cell_type": "markdown",
   "id": "1e949702",
   "metadata": {},
   "source": [
    "# Mengubah tipe data yang tidak cocok"
   ]
  },
  {
   "cell_type": "code",
   "execution_count": 149,
   "id": "866e49ca",
   "metadata": {},
   "outputs": [],
   "source": [
    "df_kepadatan[\"kepadatan_penduduk\"] = df_kepadatan[\"kepadatan_penduduk\"].astype(\"Int64\")"
   ]
  },
  {
   "cell_type": "markdown",
   "id": "f44c721e",
   "metadata": {},
   "source": [
    "# Melihat rata-rata, median, dan outlier di tiap dataframe menggunakan boxplot dan describe"
   ]
  },
  {
   "cell_type": "code",
   "execution_count": 150,
   "id": "b0e9d2f3",
   "metadata": {},
   "outputs": [
    {
     "data": {
      "text/plain": [
       "<AxesSubplot:xlabel='tahun'>"
      ]
     },
     "execution_count": 150,
     "metadata": {},
     "output_type": "execute_result"
    },
    {
     "data": {
      "image/png": "[encoded data removed]",
      "text/plain": [
       "<Figure size 432x288 with 1 Axes>"
      ]
     },
     "metadata": {
      "needs_background": "light"
     },
     "output_type": "display_data"
    }
   ],
   "source": [
    "sns.boxplot(x=\"tahun\",data=df_pmi) "
   ]
  },
  {
   "cell_type": "code",
   "execution_count": 151,
   "id": "c2bf3042",
   "metadata": {},
   "outputs": [
    {
     "data": {
      "text/plain": [
       "<AxesSubplot:xlabel='pct_tdk_cukup_pangan'>"
      ]
     },
     "execution_count": 151,
     "metadata": {},
     "output_type": "execute_result"
    },
    {
     "data": {
      "image/png": "[encoded data removed]",
      "text/plain": [
       "<Figure size 432x288 with 1 Axes>"
      ]
     },
     "metadata": {
      "needs_background": "light"
     },
     "output_type": "display_data"
    }
   ],
   "source": [
    "sns.boxplot(x=\"pct_tdk_cukup_pangan\",data=df_nopangan) "
   ]
  },
  {
   "cell_type": "code",
   "execution_count": 152,
   "id": "2c7802d7",
   "metadata": {},
   "outputs": [
    {
     "data": {
      "text/plain": [
       "<AxesSubplot:xlabel='tahun'>"
      ]
     },
     "execution_count": 152,
     "metadata": {},
     "output_type": "execute_result"
    },
    {
     "data": {
      "image/png": "[encoded data removed]",
      "text/plain": [
       "<Figure size 432x288 with 1 Axes>"
      ]
     },
     "metadata": {
      "needs_background": "light"
     },
     "output_type": "display_data"
    }
   ],
   "source": [
    "sns.boxplot(x=\"tahun\",data=df_nopangan) "
   ]
  },
  {
   "cell_type": "code",
   "execution_count": null,
   "id": "65058372",
   "metadata": {},
   "outputs": [],
   "source": []
  },
  {
   "cell_type": "code",
   "execution_count": 153,
   "id": "cbcc9f51",
   "metadata": {},
   "outputs": [
    {
     "data": {
      "text/plain": [
       "<AxesSubplot:xlabel='tahun'>"
      ]
     },
     "execution_count": 153,
     "metadata": {},
     "output_type": "execute_result"
    },
    {
     "data": {
      "image/png": "[encoded data removed]",
      "text/plain": [
       "<Figure size 432x288 with 1 Axes>"
      ]
     },
     "metadata": {
      "needs_background": "light"
     },
     "output_type": "display_data"
    }
   ],
   "source": [
    "sns.boxplot(x=\"tahun\",data=df_kepadatan) "
   ]
  },
  {
   "cell_type": "code",
   "execution_count": 154,
   "id": "a907d4a9",
   "metadata": {},
   "outputs": [
    {
     "data": {
      "text/html": [
       "<div>\n",
       "<style scoped>\n",
       "    .dataframe tbody tr th:only-of-type {\n",
       "        vertical-align: middle;\n",
       "    }\n",
       "\n",
       "    .dataframe tbody tr th {\n",
       "        vertical-align: top;\n",
       "    }\n",
       "\n",
       "    .dataframe thead th {\n",
       "        text-align: right;\n",
       "    }\n",
       "</style>\n",
       "<table border=\"1\" class=\"dataframe\">\n",
       "  <thead>\n",
       "    <tr style=\"text-align: right;\">\n",
       "      <th></th>\n",
       "      <th>tahun</th>\n",
       "      <th>kepadatan_penduduk</th>\n",
       "    </tr>\n",
       "  </thead>\n",
       "  <tbody>\n",
       "    <tr>\n",
       "      <th>count</th>\n",
       "      <td>280.000000</td>\n",
       "      <td>280.000000</td>\n",
       "    </tr>\n",
       "    <tr>\n",
       "      <th>mean</th>\n",
       "      <td>2016.000000</td>\n",
       "      <td>698.971429</td>\n",
       "    </tr>\n",
       "    <tr>\n",
       "      <th>std</th>\n",
       "      <td>3.541864</td>\n",
       "      <td>2556.964684</td>\n",
       "    </tr>\n",
       "    <tr>\n",
       "      <th>min</th>\n",
       "      <td>2010.000000</td>\n",
       "      <td>8.000000</td>\n",
       "    </tr>\n",
       "    <tr>\n",
       "      <th>25%</th>\n",
       "      <td>2013.750000</td>\n",
       "      <td>48.750000</td>\n",
       "    </tr>\n",
       "    <tr>\n",
       "      <th>50%</th>\n",
       "      <td>2015.500000</td>\n",
       "      <td>100.500000</td>\n",
       "    </tr>\n",
       "    <tr>\n",
       "      <th>75%</th>\n",
       "      <td>2019.250000</td>\n",
       "      <td>243.250000</td>\n",
       "    </tr>\n",
       "    <tr>\n",
       "      <th>max</th>\n",
       "      <td>2021.000000</td>\n",
       "      <td>15978.000000</td>\n",
       "    </tr>\n",
       "  </tbody>\n",
       "</table>\n",
       "</div>"
      ],
      "text/plain": [
       "             tahun  kepadatan_penduduk\n",
       "count   280.000000          280.000000\n",
       "mean   2016.000000          698.971429\n",
       "std       3.541864         2556.964684\n",
       "min    2010.000000            8.000000\n",
       "25%    2013.750000           48.750000\n",
       "50%    2015.500000          100.500000\n",
       "75%    2019.250000          243.250000\n",
       "max    2021.000000        15978.000000"
      ]
     },
     "execution_count": 154,
     "metadata": {},
     "output_type": "execute_result"
    }
   ],
   "source": [
    "df_kepadatan.describe(include=('Int64'))"
   ]
  },
  {
   "cell_type": "code",
   "execution_count": 155,
   "id": "d646ae17",
   "metadata": {},
   "outputs": [
    {
     "data": {
      "text/plain": [
       "<AxesSubplot:xlabel='kepadatan_penduduk'>"
      ]
     },
     "execution_count": 155,
     "metadata": {},
     "output_type": "execute_result"
    },
    {
     "data": {
      "image/png": "[encoded data removed]",
      "text/plain": [
       "<Figure size 432x288 with 1 Axes>"
      ]
     },
     "metadata": {
      "needs_background": "light"
     },
     "output_type": "display_data"
    }
   ],
   "source": [
    "sns.boxplot(x=\"kepadatan_penduduk\",data=df_kepadatan) "
   ]
  },
  {
   "cell_type": "markdown",
   "id": "65fe7732",
   "metadata": {},
   "source": [
    "menghitung banyaknya outliers"
   ]
  },
  {
   "cell_type": "code",
   "execution_count": 156,
   "id": "e42ea5e4",
   "metadata": {},
   "outputs": [
    {
     "name": "stderr",
     "output_type": "stream",
     "text": [
      "C:\\Users\\mfkaf\\AppData\\Local\\Temp\\ipykernel_9460\\1332307195.py:5: FutureWarning: Automatic reindexing on DataFrame vs Series comparisons is deprecated and will raise ValueError in a future version. Do `left, right = left.align(right, axis=1, copy=False)` before e.g. `left == right`\n",
      "  mask = (df_kepadatan < (Q1 - 1.5 * IQR)) | (df_kepadatan > (Q3 + 1.5 * IQR))\n",
      "C:\\Users\\mfkaf\\AppData\\Local\\Temp\\ipykernel_9460\\1332307195.py:5: FutureWarning: Automatic reindexing on DataFrame vs Series comparisons is deprecated and will raise ValueError in a future version. Do `left, right = left.align(right, axis=1, copy=False)` before e.g. `left == right`\n",
      "  mask = (df_kepadatan < (Q1 - 1.5 * IQR)) | (df_kepadatan > (Q3 + 1.5 * IQR))\n"
     ]
    },
    {
     "data": {
      "text/plain": [
       "kepadatan_penduduk    56\n",
       "prov                   0\n",
       "tahun                  0\n",
       "dtype: int64"
      ]
     },
     "execution_count": 156,
     "metadata": {},
     "output_type": "execute_result"
    }
   ],
   "source": [
    "Q1 = df_kepadatan.quantile(0.25)\n",
    "Q3 = df_kepadatan.quantile(0.75)\n",
    "IQR = Q3 - Q1\n",
    "\n",
    "mask = (df_kepadatan < (Q1 - 1.5 * IQR)) | (df_kepadatan > (Q3 + 1.5 * IQR))\n",
    "mask.sum()"
   ]
  },
  {
   "cell_type": "markdown",
   "id": "8bf2a775",
   "metadata": {},
   "source": [
    "dapat dilihat ada cukup banyak outlier pada dataframe kepadatan penduduk, sehingga tidak bisa di drop datanya "
   ]
  },
  {
   "cell_type": "markdown",
   "id": "ab37d0a5",
   "metadata": {},
   "source": [
    "# Merge Data Set dengan provinsi yang sama dan tahun yang sama supaya data bisa sama persis tahun dan provinsinya\n"
   ]
  },
  {
   "cell_type": "code",
   "execution_count": 157,
   "id": "63afd57e",
   "metadata": {},
   "outputs": [
    {
     "data": {
      "text/html": [
       "<div>\n",
       "<style scoped>\n",
       "    .dataframe tbody tr th:only-of-type {\n",
       "        vertical-align: middle;\n",
       "    }\n",
       "\n",
       "    .dataframe tbody tr th {\n",
       "        vertical-align: top;\n",
       "    }\n",
       "\n",
       "    .dataframe thead th {\n",
       "        text-align: right;\n",
       "    }\n",
       "</style>\n",
       "<table border=\"1\" class=\"dataframe\">\n",
       "  <thead>\n",
       "    <tr style=\"text-align: right;\">\n",
       "      <th></th>\n",
       "      <th>tahun_x</th>\n",
       "      <th>pct_tdk_cukup_pangan</th>\n",
       "      <th>prov</th>\n",
       "      <th>tahun_y</th>\n",
       "      <th>kepadatan_penduduk</th>\n",
       "    </tr>\n",
       "  </thead>\n",
       "  <tbody>\n",
       "    <tr>\n",
       "      <th>0</th>\n",
       "      <td>2021</td>\n",
       "      <td>6.90</td>\n",
       "      <td>ACEH</td>\n",
       "      <td>2021</td>\n",
       "      <td>92</td>\n",
       "    </tr>\n",
       "    <tr>\n",
       "      <th>1</th>\n",
       "      <td>2020</td>\n",
       "      <td>8.58</td>\n",
       "      <td>ACEH</td>\n",
       "      <td>2021</td>\n",
       "      <td>92</td>\n",
       "    </tr>\n",
       "    <tr>\n",
       "      <th>2</th>\n",
       "      <td>2019</td>\n",
       "      <td>9.41</td>\n",
       "      <td>ACEH</td>\n",
       "      <td>2021</td>\n",
       "      <td>92</td>\n",
       "    </tr>\n",
       "    <tr>\n",
       "      <th>3</th>\n",
       "      <td>2018</td>\n",
       "      <td>8.68</td>\n",
       "      <td>ACEH</td>\n",
       "      <td>2021</td>\n",
       "      <td>92</td>\n",
       "    </tr>\n",
       "  </tbody>\n",
       "</table>\n",
       "</div>"
      ],
      "text/plain": [
       "   tahun_x  pct_tdk_cukup_pangan  prov  tahun_y  kepadatan_penduduk\n",
       "0     2021                  6.90  ACEH     2021                  92\n",
       "1     2020                  8.58  ACEH     2021                  92\n",
       "2     2019                  9.41  ACEH     2021                  92\n",
       "3     2018                  8.68  ACEH     2021                  92"
      ]
     },
     "execution_count": 157,
     "metadata": {},
     "output_type": "execute_result"
    }
   ],
   "source": [
    "df_final = pd.merge(df_nopangan, df_kepadatan, how=\"right\", on=[\"prov\"])\n",
    "df_final.head(4)"
   ]
  },
  {
   "cell_type": "code",
   "execution_count": 158,
   "id": "646d4331",
   "metadata": {},
   "outputs": [
    {
     "data": {
      "text/plain": [
       "tahun_x                 0\n",
       "pct_tdk_cukup_pangan    0\n",
       "prov                    0\n",
       "tahun_y                 0\n",
       "kepadatan_penduduk      0\n",
       "dtype: int64"
      ]
     },
     "execution_count": 158,
     "metadata": {},
     "output_type": "execute_result"
    }
   ],
   "source": [
    "df_final.isna().sum()"
   ]
  },
  {
   "cell_type": "code",
   "execution_count": 159,
   "id": "9faac9fd",
   "metadata": {},
   "outputs": [
    {
     "data": {
      "text/html": [
       "<div>\n",
       "<style scoped>\n",
       "    .dataframe tbody tr th:only-of-type {\n",
       "        vertical-align: middle;\n",
       "    }\n",
       "\n",
       "    .dataframe tbody tr th {\n",
       "        vertical-align: top;\n",
       "    }\n",
       "\n",
       "    .dataframe thead th {\n",
       "        text-align: right;\n",
       "    }\n",
       "</style>\n",
       "<table border=\"1\" class=\"dataframe\">\n",
       "  <thead>\n",
       "    <tr style=\"text-align: right;\">\n",
       "      <th></th>\n",
       "      <th>tahun_x</th>\n",
       "      <th>pct_tdk_cukup_pangan</th>\n",
       "      <th>tahun_y</th>\n",
       "      <th>kepadatan_penduduk</th>\n",
       "    </tr>\n",
       "  </thead>\n",
       "  <tbody>\n",
       "    <tr>\n",
       "      <th>count</th>\n",
       "      <td>1400.000000</td>\n",
       "      <td>1400.000000</td>\n",
       "      <td>1400.000000</td>\n",
       "      <td>1400.000000</td>\n",
       "    </tr>\n",
       "    <tr>\n",
       "      <th>mean</th>\n",
       "      <td>2019.000000</td>\n",
       "      <td>10.736800</td>\n",
       "      <td>2016.000000</td>\n",
       "      <td>698.971429</td>\n",
       "    </tr>\n",
       "    <tr>\n",
       "      <th>std</th>\n",
       "      <td>1.414719</td>\n",
       "      <td>8.316913</td>\n",
       "      <td>3.536797</td>\n",
       "      <td>2553.306649</td>\n",
       "    </tr>\n",
       "    <tr>\n",
       "      <th>min</th>\n",
       "      <td>2017.000000</td>\n",
       "      <td>1.430000</td>\n",
       "      <td>2010.000000</td>\n",
       "      <td>8.000000</td>\n",
       "    </tr>\n",
       "    <tr>\n",
       "      <th>25%</th>\n",
       "      <td>2018.000000</td>\n",
       "      <td>6.020000</td>\n",
       "      <td>2013.750000</td>\n",
       "      <td>48.750000</td>\n",
       "    </tr>\n",
       "    <tr>\n",
       "      <th>50%</th>\n",
       "      <td>2019.000000</td>\n",
       "      <td>8.710000</td>\n",
       "      <td>2015.500000</td>\n",
       "      <td>100.500000</td>\n",
       "    </tr>\n",
       "    <tr>\n",
       "      <th>75%</th>\n",
       "      <td>2020.000000</td>\n",
       "      <td>11.260000</td>\n",
       "      <td>2019.250000</td>\n",
       "      <td>243.250000</td>\n",
       "    </tr>\n",
       "    <tr>\n",
       "      <th>max</th>\n",
       "      <td>2021.000000</td>\n",
       "      <td>38.350000</td>\n",
       "      <td>2021.000000</td>\n",
       "      <td>15978.000000</td>\n",
       "    </tr>\n",
       "  </tbody>\n",
       "</table>\n",
       "</div>"
      ],
      "text/plain": [
       "           tahun_x  pct_tdk_cukup_pangan      tahun_y  kepadatan_penduduk\n",
       "count  1400.000000           1400.000000  1400.000000         1400.000000\n",
       "mean   2019.000000             10.736800  2016.000000          698.971429\n",
       "std       1.414719              8.316913     3.536797         2553.306649\n",
       "min    2017.000000              1.430000  2010.000000            8.000000\n",
       "25%    2018.000000              6.020000  2013.750000           48.750000\n",
       "50%    2019.000000              8.710000  2015.500000          100.500000\n",
       "75%    2020.000000             11.260000  2019.250000          243.250000\n",
       "max    2021.000000             38.350000  2021.000000        15978.000000"
      ]
     },
     "execution_count": 159,
     "metadata": {},
     "output_type": "execute_result"
    }
   ],
   "source": [
    "df_final.describe()"
   ]
  },
  {
   "cell_type": "code",
   "execution_count": 160,
   "id": "8991ab8c",
   "metadata": {},
   "outputs": [
    {
     "data": {
      "text/html": [
       "<div>\n",
       "<style scoped>\n",
       "    .dataframe tbody tr th:only-of-type {\n",
       "        vertical-align: middle;\n",
       "    }\n",
       "\n",
       "    .dataframe tbody tr th {\n",
       "        vertical-align: top;\n",
       "    }\n",
       "\n",
       "    .dataframe thead th {\n",
       "        text-align: right;\n",
       "    }\n",
       "</style>\n",
       "<table border=\"1\" class=\"dataframe\">\n",
       "  <thead>\n",
       "    <tr style=\"text-align: right;\">\n",
       "      <th></th>\n",
       "      <th>tahun_x</th>\n",
       "      <th>pct_tdk_cukup_pangan</th>\n",
       "      <th>prov</th>\n",
       "      <th>tahun_y</th>\n",
       "      <th>kepadatan_penduduk</th>\n",
       "      <th>tahun</th>\n",
       "      <th>kategori_pmi</th>\n",
       "    </tr>\n",
       "  </thead>\n",
       "  <tbody>\n",
       "    <tr>\n",
       "      <th>0</th>\n",
       "      <td>2021</td>\n",
       "      <td>6.9</td>\n",
       "      <td>ACEH</td>\n",
       "      <td>2021</td>\n",
       "      <td>92</td>\n",
       "      <td>2022.0</td>\n",
       "      <td>TINGGI</td>\n",
       "    </tr>\n",
       "    <tr>\n",
       "      <th>1</th>\n",
       "      <td>2021</td>\n",
       "      <td>6.9</td>\n",
       "      <td>ACEH</td>\n",
       "      <td>2021</td>\n",
       "      <td>92</td>\n",
       "      <td>2021.0</td>\n",
       "      <td>TINGGI</td>\n",
       "    </tr>\n",
       "    <tr>\n",
       "      <th>2</th>\n",
       "      <td>2021</td>\n",
       "      <td>6.9</td>\n",
       "      <td>ACEH</td>\n",
       "      <td>2021</td>\n",
       "      <td>92</td>\n",
       "      <td>2020.0</td>\n",
       "      <td>TINGGI</td>\n",
       "    </tr>\n",
       "    <tr>\n",
       "      <th>3</th>\n",
       "      <td>2021</td>\n",
       "      <td>6.9</td>\n",
       "      <td>ACEH</td>\n",
       "      <td>2021</td>\n",
       "      <td>92</td>\n",
       "      <td>2019.0</td>\n",
       "      <td>TINGGI</td>\n",
       "    </tr>\n",
       "  </tbody>\n",
       "</table>\n",
       "</div>"
      ],
      "text/plain": [
       "   tahun_x  pct_tdk_cukup_pangan  prov  tahun_y  kepadatan_penduduk   tahun  \\\n",
       "0     2021                   6.9  ACEH     2021                  92  2022.0   \n",
       "1     2021                   6.9  ACEH     2021                  92  2021.0   \n",
       "2     2021                   6.9  ACEH     2021                  92  2020.0   \n",
       "3     2021                   6.9  ACEH     2021                  92  2019.0   \n",
       "\n",
       "  kategori_pmi  \n",
       "0       TINGGI  \n",
       "1       TINGGI  \n",
       "2       TINGGI  \n",
       "3       TINGGI  "
      ]
     },
     "execution_count": 160,
     "metadata": {},
     "output_type": "execute_result"
    }
   ],
   "source": [
    "df_final = pd.merge(df_final, df_pmi, how=\"left\", on=[\"prov\"])\n",
    "df_final.head(4)"
   ]
  },
  {
   "cell_type": "code",
   "execution_count": 161,
   "id": "404e6db1",
   "metadata": {},
   "outputs": [
    {
     "data": {
      "text/plain": [
       "tahun_x                  0\n",
       "pct_tdk_cukup_pangan     0\n",
       "prov                     0\n",
       "tahun_y                  0\n",
       "kepadatan_penduduk       0\n",
       "tahun                   40\n",
       "kategori_pmi            40\n",
       "dtype: int64"
      ]
     },
     "execution_count": 161,
     "metadata": {},
     "output_type": "execute_result"
    }
   ],
   "source": [
    "df_final.isna().sum()"
   ]
  },
  {
   "cell_type": "code",
   "execution_count": 162,
   "id": "fbc8cfae",
   "metadata": {},
   "outputs": [
    {
     "data": {
      "text/html": [
       "<div>\n",
       "<style scoped>\n",
       "    .dataframe tbody tr th:only-of-type {\n",
       "        vertical-align: middle;\n",
       "    }\n",
       "\n",
       "    .dataframe tbody tr th {\n",
       "        vertical-align: top;\n",
       "    }\n",
       "\n",
       "    .dataframe thead th {\n",
       "        text-align: right;\n",
       "    }\n",
       "</style>\n",
       "<table border=\"1\" class=\"dataframe\">\n",
       "  <thead>\n",
       "    <tr style=\"text-align: right;\">\n",
       "      <th></th>\n",
       "      <th>tahun_x</th>\n",
       "      <th>pct_tdk_cukup_pangan</th>\n",
       "      <th>tahun_y</th>\n",
       "      <th>kepadatan_penduduk</th>\n",
       "      <th>tahun</th>\n",
       "    </tr>\n",
       "  </thead>\n",
       "  <tbody>\n",
       "    <tr>\n",
       "      <th>count</th>\n",
       "      <td>17720.000000</td>\n",
       "      <td>17720.000000</td>\n",
       "      <td>17720.000000</td>\n",
       "      <td>17720.000000</td>\n",
       "      <td>17680.000000</td>\n",
       "    </tr>\n",
       "    <tr>\n",
       "      <th>mean</th>\n",
       "      <td>2019.000000</td>\n",
       "      <td>10.807630</td>\n",
       "      <td>2016.000000</td>\n",
       "      <td>714.255079</td>\n",
       "      <td>2016.000000</td>\n",
       "    </tr>\n",
       "    <tr>\n",
       "      <th>std</th>\n",
       "      <td>1.414253</td>\n",
       "      <td>8.414581</td>\n",
       "      <td>3.535634</td>\n",
       "      <td>2585.093489</td>\n",
       "      <td>3.741763</td>\n",
       "    </tr>\n",
       "    <tr>\n",
       "      <th>min</th>\n",
       "      <td>2017.000000</td>\n",
       "      <td>1.430000</td>\n",
       "      <td>2010.000000</td>\n",
       "      <td>8.000000</td>\n",
       "      <td>2010.000000</td>\n",
       "    </tr>\n",
       "    <tr>\n",
       "      <th>25%</th>\n",
       "      <td>2018.000000</td>\n",
       "      <td>5.970000</td>\n",
       "      <td>2013.750000</td>\n",
       "      <td>47.000000</td>\n",
       "      <td>2013.000000</td>\n",
       "    </tr>\n",
       "    <tr>\n",
       "      <th>50%</th>\n",
       "      <td>2019.000000</td>\n",
       "      <td>8.840000</td>\n",
       "      <td>2015.500000</td>\n",
       "      <td>98.000000</td>\n",
       "      <td>2016.000000</td>\n",
       "    </tr>\n",
       "    <tr>\n",
       "      <th>75%</th>\n",
       "      <td>2020.000000</td>\n",
       "      <td>11.550000</td>\n",
       "      <td>2019.250000</td>\n",
       "      <td>247.000000</td>\n",
       "      <td>2019.000000</td>\n",
       "    </tr>\n",
       "    <tr>\n",
       "      <th>max</th>\n",
       "      <td>2021.000000</td>\n",
       "      <td>38.350000</td>\n",
       "      <td>2021.000000</td>\n",
       "      <td>15978.000000</td>\n",
       "      <td>2022.000000</td>\n",
       "    </tr>\n",
       "  </tbody>\n",
       "</table>\n",
       "</div>"
      ],
      "text/plain": [
       "            tahun_x  pct_tdk_cukup_pangan       tahun_y  kepadatan_penduduk  \\\n",
       "count  17720.000000          17720.000000  17720.000000        17720.000000   \n",
       "mean    2019.000000             10.807630   2016.000000          714.255079   \n",
       "std        1.414253              8.414581      3.535634         2585.093489   \n",
       "min     2017.000000              1.430000   2010.000000            8.000000   \n",
       "25%     2018.000000              5.970000   2013.750000           47.000000   \n",
       "50%     2019.000000              8.840000   2015.500000           98.000000   \n",
       "75%     2020.000000             11.550000   2019.250000          247.000000   \n",
       "max     2021.000000             38.350000   2021.000000        15978.000000   \n",
       "\n",
       "              tahun  \n",
       "count  17680.000000  \n",
       "mean    2016.000000  \n",
       "std        3.741763  \n",
       "min     2010.000000  \n",
       "25%     2013.000000  \n",
       "50%     2016.000000  \n",
       "75%     2019.000000  \n",
       "max     2022.000000  "
      ]
     },
     "execution_count": 162,
     "metadata": {},
     "output_type": "execute_result"
    }
   ],
   "source": [
    "df_final.describe()"
   ]
  },
  {
   "cell_type": "code",
   "execution_count": 163,
   "id": "cca83dad",
   "metadata": {},
   "outputs": [
    {
     "name": "stdout",
     "output_type": "stream",
     "text": [
      "<class 'pandas.core.frame.DataFrame'>\n",
      "Int64Index: 17720 entries, 0 to 17719\n",
      "Data columns (total 7 columns):\n",
      " #   Column                Non-Null Count  Dtype  \n",
      "---  ------                --------------  -----  \n",
      " 0   tahun_x               17720 non-null  int64  \n",
      " 1   pct_tdk_cukup_pangan  17720 non-null  float64\n",
      " 2   prov                  17720 non-null  object \n",
      " 3   tahun_y               17720 non-null  int64  \n",
      " 4   kepadatan_penduduk    17720 non-null  Int64  \n",
      " 5   tahun                 17680 non-null  float64\n",
      " 6   kategori_pmi          17680 non-null  object \n",
      "dtypes: Int64(1), float64(2), int64(2), object(2)\n",
      "memory usage: 1.1+ MB\n"
     ]
    }
   ],
   "source": [
    "df_final.info()"
   ]
  },
  {
   "cell_type": "code",
   "execution_count": 164,
   "id": "ae125be3",
   "metadata": {},
   "outputs": [
    {
     "data": {
      "text/html": [
       "<div>\n",
       "<style scoped>\n",
       "    .dataframe tbody tr th:only-of-type {\n",
       "        vertical-align: middle;\n",
       "    }\n",
       "\n",
       "    .dataframe tbody tr th {\n",
       "        vertical-align: top;\n",
       "    }\n",
       "\n",
       "    .dataframe thead th {\n",
       "        text-align: right;\n",
       "    }\n",
       "</style>\n",
       "<table border=\"1\" class=\"dataframe\">\n",
       "  <thead>\n",
       "    <tr style=\"text-align: right;\">\n",
       "      <th></th>\n",
       "      <th>tahun_x</th>\n",
       "      <th>pct_tdk_cukup_pangan</th>\n",
       "      <th>prov</th>\n",
       "      <th>tahun_y</th>\n",
       "      <th>kepadatan_penduduk</th>\n",
       "      <th>tahun</th>\n",
       "      <th>kategori_pmi</th>\n",
       "    </tr>\n",
       "  </thead>\n",
       "  <tbody>\n",
       "    <tr>\n",
       "      <th>0</th>\n",
       "      <td>2021</td>\n",
       "      <td>6.90</td>\n",
       "      <td>ACEH</td>\n",
       "      <td>2021</td>\n",
       "      <td>92</td>\n",
       "      <td>2022.0</td>\n",
       "      <td>TINGGI</td>\n",
       "    </tr>\n",
       "    <tr>\n",
       "      <th>1</th>\n",
       "      <td>2021</td>\n",
       "      <td>6.90</td>\n",
       "      <td>ACEH</td>\n",
       "      <td>2021</td>\n",
       "      <td>92</td>\n",
       "      <td>2021.0</td>\n",
       "      <td>TINGGI</td>\n",
       "    </tr>\n",
       "    <tr>\n",
       "      <th>2</th>\n",
       "      <td>2021</td>\n",
       "      <td>6.90</td>\n",
       "      <td>ACEH</td>\n",
       "      <td>2021</td>\n",
       "      <td>92</td>\n",
       "      <td>2020.0</td>\n",
       "      <td>TINGGI</td>\n",
       "    </tr>\n",
       "    <tr>\n",
       "      <th>3</th>\n",
       "      <td>2021</td>\n",
       "      <td>6.90</td>\n",
       "      <td>ACEH</td>\n",
       "      <td>2021</td>\n",
       "      <td>92</td>\n",
       "      <td>2019.0</td>\n",
       "      <td>TINGGI</td>\n",
       "    </tr>\n",
       "    <tr>\n",
       "      <th>4</th>\n",
       "      <td>2021</td>\n",
       "      <td>6.90</td>\n",
       "      <td>ACEH</td>\n",
       "      <td>2021</td>\n",
       "      <td>92</td>\n",
       "      <td>2018.0</td>\n",
       "      <td>TINGGI</td>\n",
       "    </tr>\n",
       "    <tr>\n",
       "      <th>5</th>\n",
       "      <td>2021</td>\n",
       "      <td>6.90</td>\n",
       "      <td>ACEH</td>\n",
       "      <td>2021</td>\n",
       "      <td>92</td>\n",
       "      <td>2017.0</td>\n",
       "      <td>TINGGI</td>\n",
       "    </tr>\n",
       "    <tr>\n",
       "      <th>6</th>\n",
       "      <td>2021</td>\n",
       "      <td>6.90</td>\n",
       "      <td>ACEH</td>\n",
       "      <td>2021</td>\n",
       "      <td>92</td>\n",
       "      <td>2016.0</td>\n",
       "      <td>TINGGI</td>\n",
       "    </tr>\n",
       "    <tr>\n",
       "      <th>7</th>\n",
       "      <td>2021</td>\n",
       "      <td>6.90</td>\n",
       "      <td>ACEH</td>\n",
       "      <td>2021</td>\n",
       "      <td>92</td>\n",
       "      <td>2015.0</td>\n",
       "      <td>SEDANG</td>\n",
       "    </tr>\n",
       "    <tr>\n",
       "      <th>8</th>\n",
       "      <td>2021</td>\n",
       "      <td>6.90</td>\n",
       "      <td>ACEH</td>\n",
       "      <td>2021</td>\n",
       "      <td>92</td>\n",
       "      <td>2014.0</td>\n",
       "      <td>SEDANG</td>\n",
       "    </tr>\n",
       "    <tr>\n",
       "      <th>9</th>\n",
       "      <td>2021</td>\n",
       "      <td>6.90</td>\n",
       "      <td>ACEH</td>\n",
       "      <td>2021</td>\n",
       "      <td>92</td>\n",
       "      <td>2013.0</td>\n",
       "      <td>SEDANG</td>\n",
       "    </tr>\n",
       "    <tr>\n",
       "      <th>10</th>\n",
       "      <td>2021</td>\n",
       "      <td>6.90</td>\n",
       "      <td>ACEH</td>\n",
       "      <td>2021</td>\n",
       "      <td>92</td>\n",
       "      <td>2012.0</td>\n",
       "      <td>SEDANG</td>\n",
       "    </tr>\n",
       "    <tr>\n",
       "      <th>11</th>\n",
       "      <td>2021</td>\n",
       "      <td>6.90</td>\n",
       "      <td>ACEH</td>\n",
       "      <td>2021</td>\n",
       "      <td>92</td>\n",
       "      <td>2011.0</td>\n",
       "      <td>SEDANG</td>\n",
       "    </tr>\n",
       "    <tr>\n",
       "      <th>12</th>\n",
       "      <td>2021</td>\n",
       "      <td>6.90</td>\n",
       "      <td>ACEH</td>\n",
       "      <td>2021</td>\n",
       "      <td>92</td>\n",
       "      <td>2010.0</td>\n",
       "      <td>SEDANG</td>\n",
       "    </tr>\n",
       "    <tr>\n",
       "      <th>13</th>\n",
       "      <td>2020</td>\n",
       "      <td>8.58</td>\n",
       "      <td>ACEH</td>\n",
       "      <td>2021</td>\n",
       "      <td>92</td>\n",
       "      <td>2022.0</td>\n",
       "      <td>TINGGI</td>\n",
       "    </tr>\n",
       "    <tr>\n",
       "      <th>14</th>\n",
       "      <td>2020</td>\n",
       "      <td>8.58</td>\n",
       "      <td>ACEH</td>\n",
       "      <td>2021</td>\n",
       "      <td>92</td>\n",
       "      <td>2021.0</td>\n",
       "      <td>TINGGI</td>\n",
       "    </tr>\n",
       "    <tr>\n",
       "      <th>15</th>\n",
       "      <td>2020</td>\n",
       "      <td>8.58</td>\n",
       "      <td>ACEH</td>\n",
       "      <td>2021</td>\n",
       "      <td>92</td>\n",
       "      <td>2020.0</td>\n",
       "      <td>TINGGI</td>\n",
       "    </tr>\n",
       "    <tr>\n",
       "      <th>16</th>\n",
       "      <td>2020</td>\n",
       "      <td>8.58</td>\n",
       "      <td>ACEH</td>\n",
       "      <td>2021</td>\n",
       "      <td>92</td>\n",
       "      <td>2019.0</td>\n",
       "      <td>TINGGI</td>\n",
       "    </tr>\n",
       "    <tr>\n",
       "      <th>17</th>\n",
       "      <td>2020</td>\n",
       "      <td>8.58</td>\n",
       "      <td>ACEH</td>\n",
       "      <td>2021</td>\n",
       "      <td>92</td>\n",
       "      <td>2018.0</td>\n",
       "      <td>TINGGI</td>\n",
       "    </tr>\n",
       "    <tr>\n",
       "      <th>18</th>\n",
       "      <td>2020</td>\n",
       "      <td>8.58</td>\n",
       "      <td>ACEH</td>\n",
       "      <td>2021</td>\n",
       "      <td>92</td>\n",
       "      <td>2017.0</td>\n",
       "      <td>TINGGI</td>\n",
       "    </tr>\n",
       "    <tr>\n",
       "      <th>19</th>\n",
       "      <td>2020</td>\n",
       "      <td>8.58</td>\n",
       "      <td>ACEH</td>\n",
       "      <td>2021</td>\n",
       "      <td>92</td>\n",
       "      <td>2016.0</td>\n",
       "      <td>TINGGI</td>\n",
       "    </tr>\n",
       "    <tr>\n",
       "      <th>20</th>\n",
       "      <td>2020</td>\n",
       "      <td>8.58</td>\n",
       "      <td>ACEH</td>\n",
       "      <td>2021</td>\n",
       "      <td>92</td>\n",
       "      <td>2015.0</td>\n",
       "      <td>SEDANG</td>\n",
       "    </tr>\n",
       "    <tr>\n",
       "      <th>21</th>\n",
       "      <td>2020</td>\n",
       "      <td>8.58</td>\n",
       "      <td>ACEH</td>\n",
       "      <td>2021</td>\n",
       "      <td>92</td>\n",
       "      <td>2014.0</td>\n",
       "      <td>SEDANG</td>\n",
       "    </tr>\n",
       "    <tr>\n",
       "      <th>22</th>\n",
       "      <td>2020</td>\n",
       "      <td>8.58</td>\n",
       "      <td>ACEH</td>\n",
       "      <td>2021</td>\n",
       "      <td>92</td>\n",
       "      <td>2013.0</td>\n",
       "      <td>SEDANG</td>\n",
       "    </tr>\n",
       "    <tr>\n",
       "      <th>23</th>\n",
       "      <td>2020</td>\n",
       "      <td>8.58</td>\n",
       "      <td>ACEH</td>\n",
       "      <td>2021</td>\n",
       "      <td>92</td>\n",
       "      <td>2012.0</td>\n",
       "      <td>SEDANG</td>\n",
       "    </tr>\n",
       "    <tr>\n",
       "      <th>24</th>\n",
       "      <td>2020</td>\n",
       "      <td>8.58</td>\n",
       "      <td>ACEH</td>\n",
       "      <td>2021</td>\n",
       "      <td>92</td>\n",
       "      <td>2011.0</td>\n",
       "      <td>SEDANG</td>\n",
       "    </tr>\n",
       "    <tr>\n",
       "      <th>25</th>\n",
       "      <td>2020</td>\n",
       "      <td>8.58</td>\n",
       "      <td>ACEH</td>\n",
       "      <td>2021</td>\n",
       "      <td>92</td>\n",
       "      <td>2010.0</td>\n",
       "      <td>SEDANG</td>\n",
       "    </tr>\n",
       "    <tr>\n",
       "      <th>26</th>\n",
       "      <td>2019</td>\n",
       "      <td>9.41</td>\n",
       "      <td>ACEH</td>\n",
       "      <td>2021</td>\n",
       "      <td>92</td>\n",
       "      <td>2022.0</td>\n",
       "      <td>TINGGI</td>\n",
       "    </tr>\n",
       "    <tr>\n",
       "      <th>27</th>\n",
       "      <td>2019</td>\n",
       "      <td>9.41</td>\n",
       "      <td>ACEH</td>\n",
       "      <td>2021</td>\n",
       "      <td>92</td>\n",
       "      <td>2021.0</td>\n",
       "      <td>TINGGI</td>\n",
       "    </tr>\n",
       "    <tr>\n",
       "      <th>28</th>\n",
       "      <td>2019</td>\n",
       "      <td>9.41</td>\n",
       "      <td>ACEH</td>\n",
       "      <td>2021</td>\n",
       "      <td>92</td>\n",
       "      <td>2020.0</td>\n",
       "      <td>TINGGI</td>\n",
       "    </tr>\n",
       "    <tr>\n",
       "      <th>29</th>\n",
       "      <td>2019</td>\n",
       "      <td>9.41</td>\n",
       "      <td>ACEH</td>\n",
       "      <td>2021</td>\n",
       "      <td>92</td>\n",
       "      <td>2019.0</td>\n",
       "      <td>TINGGI</td>\n",
       "    </tr>\n",
       "  </tbody>\n",
       "</table>\n",
       "</div>"
      ],
      "text/plain": [
       "    tahun_x  pct_tdk_cukup_pangan  prov  tahun_y  kepadatan_penduduk   tahun  \\\n",
       "0      2021                  6.90  ACEH     2021                  92  2022.0   \n",
       "1      2021                  6.90  ACEH     2021                  92  2021.0   \n",
       "2      2021                  6.90  ACEH     2021                  92  2020.0   \n",
       "3      2021                  6.90  ACEH     2021                  92  2019.0   \n",
       "4      2021                  6.90  ACEH     2021                  92  2018.0   \n",
       "5      2021                  6.90  ACEH     2021                  92  2017.0   \n",
       "6      2021                  6.90  ACEH     2021                  92  2016.0   \n",
       "7      2021                  6.90  ACEH     2021                  92  2015.0   \n",
       "8      2021                  6.90  ACEH     2021                  92  2014.0   \n",
       "9      2021                  6.90  ACEH     2021                  92  2013.0   \n",
       "10     2021                  6.90  ACEH     2021                  92  2012.0   \n",
       "11     2021                  6.90  ACEH     2021                  92  2011.0   \n",
       "12     2021                  6.90  ACEH     2021                  92  2010.0   \n",
       "13     2020                  8.58  ACEH     2021                  92  2022.0   \n",
       "14     2020                  8.58  ACEH     2021                  92  2021.0   \n",
       "15     2020                  8.58  ACEH     2021                  92  2020.0   \n",
       "16     2020                  8.58  ACEH     2021                  92  2019.0   \n",
       "17     2020                  8.58  ACEH     2021                  92  2018.0   \n",
       "18     2020                  8.58  ACEH     2021                  92  2017.0   \n",
       "19     2020                  8.58  ACEH     2021                  92  2016.0   \n",
       "20     2020                  8.58  ACEH     2021                  92  2015.0   \n",
       "21     2020                  8.58  ACEH     2021                  92  2014.0   \n",
       "22     2020                  8.58  ACEH     2021                  92  2013.0   \n",
       "23     2020                  8.58  ACEH     2021                  92  2012.0   \n",
       "24     2020                  8.58  ACEH     2021                  92  2011.0   \n",
       "25     2020                  8.58  ACEH     2021                  92  2010.0   \n",
       "26     2019                  9.41  ACEH     2021                  92  2022.0   \n",
       "27     2019                  9.41  ACEH     2021                  92  2021.0   \n",
       "28     2019                  9.41  ACEH     2021                  92  2020.0   \n",
       "29     2019                  9.41  ACEH     2021                  92  2019.0   \n",
       "\n",
       "   kategori_pmi  \n",
       "0        TINGGI  \n",
       "1        TINGGI  \n",
       "2        TINGGI  \n",
       "3        TINGGI  \n",
       "4        TINGGI  \n",
       "5        TINGGI  \n",
       "6        TINGGI  \n",
       "7        SEDANG  \n",
       "8        SEDANG  \n",
       "9        SEDANG  \n",
       "10       SEDANG  \n",
       "11       SEDANG  \n",
       "12       SEDANG  \n",
       "13       TINGGI  \n",
       "14       TINGGI  \n",
       "15       TINGGI  \n",
       "16       TINGGI  \n",
       "17       TINGGI  \n",
       "18       TINGGI  \n",
       "19       TINGGI  \n",
       "20       SEDANG  \n",
       "21       SEDANG  \n",
       "22       SEDANG  \n",
       "23       SEDANG  \n",
       "24       SEDANG  \n",
       "25       SEDANG  \n",
       "26       TINGGI  \n",
       "27       TINGGI  \n",
       "28       TINGGI  \n",
       "29       TINGGI  "
      ]
     },
     "execution_count": 164,
     "metadata": {},
     "output_type": "execute_result"
    }
   ],
   "source": [
    "df_final.head(30)"
   ]
  },
  {
   "cell_type": "markdown",
   "id": "4670bd56",
   "metadata": {},
   "source": [
    "# Menghapus data kategori_pmi atau data hasil prediksi yang null  "
   ]
  },
  {
   "cell_type": "code",
   "execution_count": 165,
   "id": "fd04dac9",
   "metadata": {},
   "outputs": [],
   "source": [
    "# df_final.drop(df_final.loc[df_final[\"pct_tdk_cukup_pangan\"] == NULL].index, inplace = True)\n",
    "df_final = df_final.dropna(axis=0, subset=['kategori_pmi'])"
   ]
  },
  {
   "cell_type": "code",
   "execution_count": 166,
   "id": "c133e165",
   "metadata": {},
   "outputs": [
    {
     "name": "stdout",
     "output_type": "stream",
     "text": [
      "<class 'pandas.core.frame.DataFrame'>\n",
      "Int64Index: 17680 entries, 0 to 17714\n",
      "Data columns (total 7 columns):\n",
      " #   Column                Non-Null Count  Dtype  \n",
      "---  ------                --------------  -----  \n",
      " 0   tahun_x               17680 non-null  int64  \n",
      " 1   pct_tdk_cukup_pangan  17680 non-null  float64\n",
      " 2   prov                  17680 non-null  object \n",
      " 3   tahun_y               17680 non-null  int64  \n",
      " 4   kepadatan_penduduk    17680 non-null  Int64  \n",
      " 5   tahun                 17680 non-null  float64\n",
      " 6   kategori_pmi          17680 non-null  object \n",
      "dtypes: Int64(1), float64(2), int64(2), object(2)\n",
      "memory usage: 1.1+ MB\n"
     ]
    }
   ],
   "source": [
    "df_final.info()"
   ]
  },
  {
   "cell_type": "code",
   "execution_count": 167,
   "id": "e03057d5",
   "metadata": {},
   "outputs": [
    {
     "data": {
      "text/plain": [
       "tahun_x                 0\n",
       "pct_tdk_cukup_pangan    0\n",
       "prov                    0\n",
       "tahun_y                 0\n",
       "kepadatan_penduduk      0\n",
       "tahun                   0\n",
       "kategori_pmi            0\n",
       "dtype: int64"
      ]
     },
     "execution_count": 167,
     "metadata": {},
     "output_type": "execute_result"
    }
   ],
   "source": [
    "df_final.isna().sum()"
   ]
  },
  {
   "cell_type": "code",
   "execution_count": 168,
   "id": "1d05ac71",
   "metadata": {},
   "outputs": [
    {
     "data": {
      "text/plain": [
       "<AxesSubplot:>"
      ]
     },
     "execution_count": 168,
     "metadata": {},
     "output_type": "execute_result"
    },
    {
     "data": {
      "image/png": "[encoded data removed]",
      "text/plain": [
       "<Figure size 720x720 with 2 Axes>"
      ]
     },
     "metadata": {
      "needs_background": "light"
     },
     "output_type": "display_data"
    }
   ],
   "source": [
    "fig, ax = plt.subplots(figsize = (10,10))\n",
    "sns.heatmap(df_final.corr(), annot = True, ax=ax)"
   ]
  },
  {
   "cell_type": "markdown",
   "id": "187f41f4",
   "metadata": {},
   "source": [
    "# Dapat dilihat dari heatmap diatas bahwa tahun dengan kepadatan penduduk  dan juga tahun dengan persentase pangan tidak begitu berhubungan, sedangkan yang lainnya cukup memiliki korelasi"
   ]
  },
  {
   "cell_type": "markdown",
   "id": "ef846576",
   "metadata": {},
   "source": [
    "# Mendrop kolom tahun dan prov supaya tidak menjadi feature saat modeling atau prediksi"
   ]
  },
  {
   "cell_type": "code",
   "execution_count": 169,
   "id": "85287df1",
   "metadata": {},
   "outputs": [],
   "source": [
    "df_final.drop('tahun_y', inplace=True, axis=1)\n",
    "df_final.drop('tahun', inplace=True, axis=1)\n",
    "df_final.drop('prov', inplace=True, axis=1)"
   ]
  },
  {
   "cell_type": "markdown",
   "id": "f8c8e49c",
   "metadata": {},
   "source": [
    "# Mengubah tipe data kategori_PMI menjadi category"
   ]
  },
  {
   "cell_type": "code",
   "execution_count": 170,
   "id": "c24f92e5",
   "metadata": {},
   "outputs": [],
   "source": [
    "df_final[\"kategori_pmi\"] = df_final[\"kategori_pmi\"].astype(\"category\")"
   ]
  },
  {
   "cell_type": "markdown",
   "id": "8381ac49",
   "metadata": {},
   "source": [
    "# mengecek ada berapa category pada kategori_pmi"
   ]
  },
  {
   "cell_type": "code",
   "execution_count": 171,
   "id": "07febe2c",
   "metadata": {},
   "outputs": [
    {
     "data": {
      "text/plain": [
       "['TINGGI', 'SEDANG', 'SANGAT TINGGI', 'SANGAT RENDAH']\n",
       "Categories (4, object): ['SANGAT RENDAH', 'SANGAT TINGGI', 'SEDANG', 'TINGGI']"
      ]
     },
     "execution_count": 171,
     "metadata": {},
     "output_type": "execute_result"
    }
   ],
   "source": [
    "df_final['kategori_pmi'].unique()"
   ]
  },
  {
   "cell_type": "markdown",
   "id": "c8c9967f",
   "metadata": {},
   "source": [
    "# Mulai Split Data"
   ]
  },
  {
   "cell_type": "code",
   "execution_count": 172,
   "id": "0dc1e03b",
   "metadata": {},
   "outputs": [],
   "source": [
    "le = preprocessing.LabelEncoder()\n",
    "le.fit(df_final.kategori_pmi)\n",
    "Y = le.transform(df_final.kategori_pmi)\n",
    "\n",
    "X = df_final.drop(\"kategori_pmi\", axis=1) "
   ]
  },
  {
   "cell_type": "code",
   "execution_count": 173,
   "id": "138dd0cd",
   "metadata": {},
   "outputs": [],
   "source": [
    "X_train,X_test,Y_train,Y_test=train_test_split(X,Y,test_size=0.2,random_state=123)"
   ]
  },
  {
   "cell_type": "markdown",
   "id": "807d8042",
   "metadata": {},
   "source": [
    "# Mulai membuat model dan melatih model"
   ]
  },
  {
   "cell_type": "code",
   "execution_count": 174,
   "id": "d3d60c21",
   "metadata": {},
   "outputs": [
    {
     "name": "stdout",
     "output_type": "stream",
     "text": [
      "Akurasi 0.6561085972850679\n",
      "              precision    recall  f1-score   support\n",
      "\n",
      "           0       0.68      0.50      0.58       126\n",
      "           1       0.21      0.24      0.23        62\n",
      "           2       0.70      0.77      0.74      1998\n",
      "           3       0.59      0.52      0.55      1350\n",
      "\n",
      "    accuracy                           0.66      3536\n",
      "   macro avg       0.55      0.51      0.52      3536\n",
      "weighted avg       0.65      0.66      0.65      3536\n",
      "\n"
     ]
    }
   ],
   "source": [
    "clf = RandomForestClassifier(n_estimators=200, random_state=123, max_depth=20)\n",
    "clf.fit(X_train, Y_train)\n",
    "Y_pred = clf.predict(X_test)\n",
    "acc = accuracy_score(Y_test, Y_pred)\n",
    "print(\"Akurasi {}\".format(acc))\n",
    "print(classification_report(Y_test, Y_pred))"
   ]
  },
  {
   "cell_type": "code",
   "execution_count": 175,
   "id": "38287f8e",
   "metadata": {},
   "outputs": [
    {
     "name": "stdout",
     "output_type": "stream",
     "text": [
      "<class 'pandas.core.frame.DataFrame'>\n",
      "Int64Index: 17680 entries, 0 to 17714\n",
      "Data columns (total 4 columns):\n",
      " #   Column                Non-Null Count  Dtype   \n",
      "---  ------                --------------  -----   \n",
      " 0   tahun_x               17680 non-null  int64   \n",
      " 1   pct_tdk_cukup_pangan  17680 non-null  float64 \n",
      " 2   kepadatan_penduduk    17680 non-null  Int64   \n",
      " 3   kategori_pmi          17680 non-null  category\n",
      "dtypes: Int64(1), category(1), float64(1), int64(1)\n",
      "memory usage: 587.2 KB\n"
     ]
    }
   ],
   "source": [
    "df_final.info()"
   ]
  }
 ],
 "metadata": {
  "kernelspec": {
   "display_name": "Python 3 (ipykernel)",
   "language": "python",
   "name": "python3"
  },
  "language_info": {
   "codemirror_mode": {
    "name": "ipython",
    "version": 3
   },
   "file_extension": ".py",
   "mimetype": "text/x-python",
   "name": "python",
   "nbconvert_exporter": "python",
   "pygments_lexer": "ipython3",
   "version": "3.9.12"
  }
 },
 "nbformat": 4,
 "nbformat_minor": 5
}
